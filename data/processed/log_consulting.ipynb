{
 "cells": [
  {
   "cell_type": "code",
   "execution_count": 3,
   "metadata": {},
   "outputs": [],
   "source": [
    "#!pip install pymongo requests\n",
    "from pymongo import MongoClient\n",
    "\n"
   ]
  },
  {
   "cell_type": "code",
   "execution_count": 36,
   "metadata": {},
   "outputs": [
    {
     "name": "stdout",
     "output_type": "stream",
     "text": [
      "{'_id': ObjectId('679d1dbc960372ab75b62c16'), 'response_data': {'type': ['string'], 'sector': ['string'], 'net_usable_area': [0.0], 'net_area': [0.0], 'n_rooms': [0.0], 'n_bathroom': [0.0], 'latitude': [0.0], 'longitude': [0.0], 'price': [0.0], 'prediction': [10450]}, 'timestamp': datetime.datetime(2025, 1, 31, 19, 0, 12, 396000)}\n",
      "{'_id': ObjectId('679d2112960372ab75b62c17'), 'response_data': {'type': ['departamento'], 'sector': ['lo barnechea'], 'net_usable_area': [370.0], 'net_area': [540.0], 'n_rooms': [3.0], 'n_bathroom': [2.0], 'latitude': [-33.0], 'longitude': [-70.0], 'price': [50000.0], 'prediction': [13165]}, 'timestamp': datetime.datetime(2025, 1, 31, 19, 14, 26, 904000)}\n",
      "{'_id': ObjectId('679d235b960372ab75b62c18'), 'response_data': {'type': ['departamento'], 'sector': ['lo barnechea'], 'net_usable_area': [370.0], 'net_area': [540.0], 'n_rooms': [3.0], 'n_bathroom': [2.0], 'latitude': [-33.0], 'longitude': [-70.0], 'price': [50000.0], 'prediction': [13165]}, 'timestamp': datetime.datetime(2025, 1, 31, 19, 24, 11, 572000)}\n",
      "{'_id': ObjectId('679d4205960372ab75b62c19'), 'response_data': {'type': ['departamento'], 'sector': ['lo barnechea'], 'net_usable_area': [370.0], 'net_area': [540.0], 'n_rooms': [3.0], 'n_bathroom': [2.0], 'latitude': [-33.0], 'longitude': [-70.0], 'price': [50000.0], 'prediction': [13165]}, 'timestamp': datetime.datetime(2025, 1, 31, 21, 35, 1, 951000)}\n",
      "{'_id': ObjectId('679d4234960372ab75b62c1a'), 'response_data': {'type': ['departamento'], 'sector': ['lo barnechea'], 'net_usable_area': [370.0], 'net_area': [540.0], 'n_rooms': [3.0], 'n_bathroom': [2.0], 'latitude': [-33.0], 'longitude': [-70.0], 'price': [50000.0], 'prediction': [13165]}, 'timestamp': datetime.datetime(2025, 1, 31, 21, 35, 48, 417000)}\n",
      "{'_id': ObjectId('679d4276960372ab75b62c1b'), 'response_data': {'type': ['casa'], 'sector': ['vitacura'], 'net_usable_area': [152.0], 'net_area': [257.0], 'n_rooms': [3.0], 'n_bathroom': [3.0], 'latitude': [-33.3794], 'longitude': [-70.5447], 'price': [18500.0], 'prediction': [21534]}, 'timestamp': datetime.datetime(2025, 1, 31, 21, 36, 54, 634000)}\n",
      "{'_id': ObjectId('679d42d8960372ab75b62c1c'), 'response_data': {'type': ['casa'], 'sector': ['vitacura'], 'net_usable_area': [152.0], 'net_area': [257.0], 'n_rooms': [3.0], 'n_bathroom': [3.0], 'latitude': [-33.3794], 'longitude': [-70.5447], 'price': [18500.0], 'prediction': [21534]}, 'timestamp': datetime.datetime(2025, 1, 31, 21, 38, 32, 274000)}\n",
      "{'_id': ObjectId('679d4319960372ab75b62c1d'), 'response_data': {'type': ['casa'], 'sector': ['vitacura'], 'net_usable_area': [152.0], 'net_area': [257.0], 'n_rooms': [3.0], 'n_bathroom': [3.0], 'latitude': [-33.3794], 'longitude': [-70.5447], 'price': [18500.0], 'prediction': [21534]}, 'timestamp': datetime.datetime(2025, 1, 31, 21, 39, 37, 714000)}\n",
      "{'_id': ObjectId('679d4319960372ab75b62c1e'), 'response_data': {'type': ['departamento'], 'sector': ['las condes'], 'net_usable_area': [140.0], 'net_area': [165.0], 'n_rooms': [4.0], 'n_bathroom': [4.0], 'latitude': [-33.41135], 'longitude': [-70.56976999999998], 'price': [14500.0], 'prediction': [10450]}, 'timestamp': datetime.datetime(2025, 1, 31, 21, 39, 37, 813000)}\n",
      "{'_id': ObjectId('679d4319960372ab75b62c1f'), 'response_data': {'type': ['departamento'], 'sector': ['la reina'], 'net_usable_area': [101.0], 'net_area': [101.0], 'n_rooms': [4.0], 'n_bathroom': [3.0], 'latitude': [-33.44154], 'longitude': [-70.55704], 'price': [6522.0], 'prediction': [7935]}, 'timestamp': datetime.datetime(2025, 1, 31, 21, 39, 37, 942000)}\n",
      "{'_id': ObjectId('679d431a960372ab75b62c20'), 'response_data': {'type': ['departamento'], 'sector': ['providencia'], 'net_usable_area': [80.0], 'net_area': [112.0], 'n_rooms': [1.0], 'n_bathroom': [2.0], 'latitude': [-33.424859999999995], 'longitude': [-70.60868], 'price': [6100.0], 'prediction': [7424]}, 'timestamp': datetime.datetime(2025, 1, 31, 21, 39, 38, 71000)}\n",
      "{'_id': ObjectId('679d431a960372ab75b62c21'), 'response_data': {'type': ['departamento'], 'sector': ['vitacura'], 'net_usable_area': [200.0], 'net_area': [200.0], 'n_rooms': [3.0], 'n_bathroom': [4.0], 'latitude': [-33.4049], 'longitude': [-70.5945], 'price': [19000.0], 'prediction': [13070]}, 'timestamp': datetime.datetime(2025, 1, 31, 21, 39, 38, 171000)}\n",
      "{'_id': ObjectId('679d431a960372ab75b62c22'), 'response_data': {'type': ['casa'], 'sector': ['la reina'], 'net_usable_area': [406.0], 'net_area': [1779.0], 'n_rooms': [6.0], 'n_bathroom': [7.0], 'latitude': [-33.43718], 'longitude': [-70.54982], 'price': [25480.0], 'prediction': [13165]}, 'timestamp': datetime.datetime(2025, 1, 31, 21, 39, 38, 302000)}\n",
      "{'_id': ObjectId('679d431a960372ab75b62c23'), 'response_data': {'type': ['departamento'], 'sector': ['providencia'], 'net_usable_area': [66.0], 'net_area': [72.0], 'n_rooms': [2.0], 'n_bathroom': [2.0], 'latitude': [-33.44833], 'longitude': [-70.62062], 'price': [5514.0], 'prediction': [7424]}, 'timestamp': datetime.datetime(2025, 1, 31, 21, 39, 38, 395000)}\n",
      "{'_id': ObjectId('679d431a960372ab75b62c24'), 'response_data': {'type': ['casa'], 'sector': ['lo barnechea'], 'net_usable_area': [0.0], 'net_area': [0.0], 'n_rooms': [6.0], 'n_bathroom': [7.0], 'latitude': [-33.3356], 'longitude': [-70.5209], 'price': [55000.0], 'prediction': [24386]}, 'timestamp': datetime.datetime(2025, 1, 31, 21, 39, 38, 525000)}\n",
      "{'_id': ObjectId('679d431a960372ab75b62c25'), 'response_data': {'type': ['departamento'], 'sector': ['las condes'], 'net_usable_area': [74.0], 'net_area': [80.0], 'n_rooms': [3.0], 'n_bathroom': [2.0], 'latitude': [-33.4083], 'longitude': [-70.5332], 'price': [5990.0], 'prediction': [10450]}, 'timestamp': datetime.datetime(2025, 1, 31, 21, 39, 38, 624000)}\n",
      "{'_id': ObjectId('679d431a960372ab75b62c26'), 'response_data': {'type': ['casa'], 'sector': ['las condes'], 'net_usable_area': [198.0], 'net_area': [310.0], 'n_rooms': [5.0], 'n_bathroom': [2.0], 'latitude': [-33.4211], 'longitude': [-70.5522], 'price': [13000.0], 'prediction': [18205]}, 'timestamp': datetime.datetime(2025, 1, 31, 21, 39, 38, 716000)}\n",
      "{'_id': ObjectId('679d431a960372ab75b62c27'), 'response_data': {'type': ['casa'], 'sector': ['las condes'], 'net_usable_area': [252.0], 'net_area': [406.0], 'n_rooms': [7.0], 'n_bathroom': [5.0], 'latitude': [-33.4013], 'longitude': [-70.561], 'price': [15000.0], 'prediction': [18205]}, 'timestamp': datetime.datetime(2025, 1, 31, 21, 39, 38, 793000)}\n",
      "{'_id': ObjectId('679d431a960372ab75b62c28'), 'response_data': {'type': ['departamento'], 'sector': ['providencia'], 'net_usable_area': [146.0], 'net_area': [182.0], 'n_rooms': [4.0], 'n_bathroom': [3.0], 'latitude': [-33.43544], 'longitude': [-70.60249], 'price': [10245.0], 'prediction': [7424]}, 'timestamp': datetime.datetime(2025, 1, 31, 21, 39, 38, 869000)}\n",
      "{'_id': ObjectId('679d431a960372ab75b62c29'), 'response_data': {'type': ['casa'], 'sector': ['la reina'], 'net_usable_area': [170.0], 'net_area': [380.0], 'n_rooms': [5.0], 'n_bathroom': [4.0], 'latitude': [-33.45369], 'longitude': [-70.52436], 'price': [13800.0], 'prediction': [13165]}, 'timestamp': datetime.datetime(2025, 1, 31, 21, 39, 38, 971000)}\n",
      "{'_id': ObjectId('679d431b960372ab75b62c2a'), 'response_data': {'type': ['casa'], 'sector': ['las condes'], 'net_usable_area': [170.0], 'net_area': [300.0], 'n_rooms': [4.0], 'n_bathroom': [3.0], 'latitude': [-33.4129], 'longitude': [-70.571], 'price': [11980.0], 'prediction': [18205]}, 'timestamp': datetime.datetime(2025, 1, 31, 21, 39, 39, 66000)}\n",
      "{'_id': ObjectId('679d431b960372ab75b62c2b'), 'response_data': {'type': ['departamento'], 'sector': ['las condes'], 'net_usable_area': [280.0], 'net_area': [348.0], 'n_rooms': [4.0], 'n_bathroom': [4.0], 'latitude': [-33.41188], 'longitude': [-70.50754], 'price': [23750.0], 'prediction': [10450]}, 'timestamp': datetime.datetime(2025, 1, 31, 21, 39, 39, 175000)}\n",
      "{'_id': ObjectId('679d431b960372ab75b62c2c'), 'response_data': {'type': ['departamento'], 'sector': ['providencia'], 'net_usable_area': [132.0], 'net_area': [267.0], 'n_rooms': [4.0], 'n_bathroom': [2.0], 'latitude': [-33.4237], 'longitude': [-70.6099], 'price': [8000.0], 'prediction': [7424]}, 'timestamp': datetime.datetime(2025, 1, 31, 21, 39, 39, 267000)}\n",
      "{'_id': ObjectId('679d431b960372ab75b62c2d'), 'response_data': {'type': ['departamento'], 'sector': ['las condes'], 'net_usable_area': [102.0], 'net_area': [112.0], 'n_rooms': [3.0], 'n_bathroom': [2.0], 'latitude': [-33.3945], 'longitude': [-70.5594], 'price': [9190.0], 'prediction': [10450]}, 'timestamp': datetime.datetime(2025, 1, 31, 21, 39, 39, 349000)}\n",
      "{'_id': ObjectId('679d431b960372ab75b62c2e'), 'response_data': {'type': ['casa'], 'sector': ['vitacura'], 'net_usable_area': [1000.0], 'net_area': [400.0], 'n_rooms': [6.0], 'n_bathroom': [4.0], 'latitude': [-33.37172], 'longitude': [-70.57746], 'price': [29800.0], 'prediction': [21534]}, 'timestamp': datetime.datetime(2025, 1, 31, 21, 39, 39, 430000)}\n",
      "{'_id': ObjectId('679d431b960372ab75b62c2f'), 'response_data': {'type': ['departamento'], 'sector': ['las condes'], 'net_usable_area': [110.0], 'net_area': [120.0], 'n_rooms': [3.0], 'n_bathroom': [2.0], 'latitude': [-33.36819000000001], 'longitude': [-70.50133000000001], 'price': [8490.0], 'prediction': [10450]}, 'timestamp': datetime.datetime(2025, 1, 31, 21, 39, 39, 511000)}\n",
      "{'_id': ObjectId('679d431b960372ab75b62c30'), 'response_data': {'type': ['departamento'], 'sector': ['nunoa'], 'net_usable_area': [70.0], 'net_area': [75.0], 'n_rooms': [3.0], 'n_bathroom': [2.0], 'latitude': [-33.4698], 'longitude': [-70.60081], 'price': [3970.0], 'prediction': [5583]}, 'timestamp': datetime.datetime(2025, 1, 31, 21, 39, 39, 593000)}\n",
      "{'_id': ObjectId('679d431b960372ab75b62c31'), 'response_data': {'type': ['casa'], 'sector': ['vitacura'], 'net_usable_area': [170.0], 'net_area': [257.0], 'n_rooms': [4.0], 'n_bathroom': [3.0], 'latitude': [-33.37908], 'longitude': [-70.54352], 'price': [14500.0], 'prediction': [21534]}, 'timestamp': datetime.datetime(2025, 1, 31, 21, 39, 39, 679000)}\n",
      "{'_id': ObjectId('679d431b960372ab75b62c32'), 'response_data': {'type': ['departamento'], 'sector': ['las condes'], 'net_usable_area': [140.0], 'net_area': [140.0], 'n_rooms': [3.0], 'n_bathroom': [3.0], 'latitude': [-33.4021], 'longitude': [-70.5807], 'price': [9980.0], 'prediction': [10450]}, 'timestamp': datetime.datetime(2025, 1, 31, 21, 39, 39, 761000)}\n",
      "{'_id': ObjectId('679d431b960372ab75b62c33'), 'response_data': {'type': ['departamento'], 'sector': ['vitacura'], 'net_usable_area': [140.0], 'net_area': [410.0], 'n_rooms': [4.0], 'n_bathroom': [3.0], 'latitude': [-33.39622], 'longitude': [-70.58662], 'price': [18400.0], 'prediction': [13070]}, 'timestamp': datetime.datetime(2025, 1, 31, 21, 39, 39, 845000)}\n",
      "{'_id': ObjectId('679d431b960372ab75b62c34'), 'response_data': {'type': ['departamento'], 'sector': ['las condes'], 'net_usable_area': [160.0], 'net_area': [180.0], 'n_rooms': [3.0], 'n_bathroom': [3.0], 'latitude': [-33.40033], 'longitude': [-70.50269], 'price': [10700.0], 'prediction': [10450]}, 'timestamp': datetime.datetime(2025, 1, 31, 21, 39, 39, 924000)}\n",
      "{'_id': ObjectId('679d431c960372ab75b62c35'), 'response_data': {'type': ['departamento'], 'sector': ['providencia'], 'net_usable_area': [55.0], 'net_area': [60.0], 'n_rooms': [2.0], 'n_bathroom': [2.0], 'latitude': [-33.4475], 'longitude': [-70.6209], 'price': [4990.0], 'prediction': [7424]}, 'timestamp': datetime.datetime(2025, 1, 31, 21, 39, 40, 12000)}\n",
      "{'_id': ObjectId('679d431c960372ab75b62c36'), 'response_data': {'type': ['casa'], 'sector': ['las condes'], 'net_usable_area': [230.0], 'net_area': [380.0], 'n_rooms': [5.0], 'n_bathroom': [4.0], 'latitude': [-33.39377], 'longitude': [-70.51068000000002], 'price': [16000.0], 'prediction': [18205]}, 'timestamp': datetime.datetime(2025, 1, 31, 21, 39, 40, 92000)}\n",
      "{'_id': ObjectId('679d431c960372ab75b62c37'), 'response_data': {'type': ['departamento'], 'sector': ['vitacura'], 'net_usable_area': [200.0], 'net_area': [240.0], 'n_rooms': [5.0], 'n_bathroom': [4.0], 'latitude': [-33.402159999999995], 'longitude': [-70.58663], 'price': [15000.0], 'prediction': [13070]}, 'timestamp': datetime.datetime(2025, 1, 31, 21, 39, 40, 177000)}\n",
      "{'_id': ObjectId('679d431c960372ab75b62c38'), 'response_data': {'type': ['departamento'], 'sector': ['la reina'], 'net_usable_area': [70.0], 'net_area': [75.0], 'n_rooms': [2.0], 'n_bathroom': [2.0], 'latitude': [-33.440290000000005], 'longitude': [-70.55781], 'price': [4698.0], 'prediction': [7935]}, 'timestamp': datetime.datetime(2025, 1, 31, 21, 39, 40, 271000)}\n",
      "{'_id': ObjectId('679d431c960372ab75b62c39'), 'response_data': {'type': ['casa'], 'sector': ['vitacura'], 'net_usable_area': [750.0], 'net_area': [4000.0], 'n_rooms': [5.0], 'n_bathroom': [5.0], 'latitude': [-33.36893], 'longitude': [-70.56577], 'price': [60000.0], 'prediction': [21534]}, 'timestamp': datetime.datetime(2025, 1, 31, 21, 39, 40, 350000)}\n",
      "{'_id': ObjectId('679d431c960372ab75b62c3a'), 'response_data': {'type': ['casa'], 'sector': ['vitacura'], 'net_usable_area': [260.0], 'net_area': [477.0], 'n_rooms': [4.0], 'n_bathroom': [4.0], 'latitude': [-33.38865], 'longitude': [-70.57275], 'price': [24500.0], 'prediction': [21534]}, 'timestamp': datetime.datetime(2025, 1, 31, 21, 39, 40, 433000)}\n"
     ]
    }
   ],
   "source": [
    "client = MongoClient(\"mongodb://localhost:27017\")\n",
    "db = client[\"logs_db\"]\n",
    "logs_collection = db.api_logs\n",
    "\n",
    "logs = logs_collection.find()\n",
    "for log in logs:\n",
    "    print(log)"
   ]
  },
  {
   "cell_type": "code",
   "execution_count": 2,
   "metadata": {},
   "outputs": [],
   "source": [
    "import requests\n",
    "\n",
    "url = \"http://localhost/predict\"\n",
    "headers = {\n",
    "    \"x-api-Key\": \"A1bC3dE5FgH7IjK9LmN0OpQrStUvWxY\",\n",
    "    \"Content-Type\": \"application/json\"\n",
    "}\n",
    "# data = {\n",
    "#     \"param1\": \"value1\",\n",
    "#     \"param2\": \"value2\"\n",
    "# }\n",
    "\n"
   ]
  },
  {
   "cell_type": "code",
   "execution_count": 3,
   "metadata": {},
   "outputs": [
    {
     "name": "stdout",
     "output_type": "stream",
     "text": [
      "200 {'prediction': 21534}\n",
      "200 {'prediction': 10450}\n",
      "200 {'prediction': 7935}\n",
      "200 {'prediction': 7424}\n",
      "200 {'prediction': 13070}\n",
      "200 {'prediction': 13165}\n",
      "200 {'prediction': 7424}\n",
      "200 {'prediction': 24386}\n",
      "200 {'prediction': 10450}\n",
      "200 {'prediction': 18205}\n",
      "200 {'prediction': 18205}\n",
      "200 {'prediction': 7424}\n",
      "200 {'prediction': 13165}\n",
      "200 {'prediction': 18205}\n",
      "200 {'prediction': 10450}\n",
      "200 {'prediction': 7424}\n",
      "200 {'prediction': 10450}\n",
      "200 {'prediction': 21534}\n",
      "200 {'prediction': 10450}\n",
      "200 {'prediction': 5583}\n",
      "200 {'prediction': 21534}\n",
      "200 {'prediction': 10450}\n",
      "200 {'prediction': 13070}\n",
      "200 {'prediction': 10450}\n",
      "200 {'prediction': 7424}\n",
      "200 {'prediction': 18205}\n",
      "200 {'prediction': 13070}\n",
      "200 {'prediction': 7935}\n",
      "200 {'prediction': 21534}\n",
      "200 {'prediction': 21534}\n"
     ]
    }
   ],
   "source": [
    "import pandas as pd\n",
    "import requests\n",
    "df = pd.read_csv(\"test.csv\")\n",
    "for x in range(30):\n",
    "    json_str = df.iloc[x].to_dict()\n",
    "\n",
    "    response = requests.post(url, json=json_str, headers=headers)\n",
    "    print(response.status_code, response.json())"
   ]
  },
  {
   "cell_type": "code",
   "execution_count": 17,
   "metadata": {},
   "outputs": [
    {
     "data": {
      "text/plain": [
       "{'type': 'casa',\n",
       " 'sector': 'vitacura',\n",
       " 'net_usable_area': 152.0,\n",
       " 'net_area': 257.0,\n",
       " 'n_rooms': 3.0,\n",
       " 'n_bathroom': 3.0,\n",
       " 'latitude': -33.3794,\n",
       " 'longitude': -70.5447,\n",
       " 'price': 18500}"
      ]
     },
     "execution_count": 17,
     "metadata": {},
     "output_type": "execute_result"
    }
   ],
   "source": [
    "{\n",
    "    \"type\":\"casa\",\n",
    "    \"sector\":\"vitacura\",\n",
    "    \"net_usable_area\":152.0,\n",
    "    \"net_area\":257.0,\n",
    "    \"n_rooms\":3.0,\n",
    "    \"n_bathroom\":3.0,\n",
    "    \"latitude\":-33.3794,\n",
    "    \"longitude\":-70.5447,\n",
    "    \"price\":18500\n",
    "}\n",
    "\n"
   ]
  },
  {
   "cell_type": "code",
   "execution_count": null,
   "metadata": {},
   "outputs": [],
   "source": []
  }
 ],
 "metadata": {
  "kernelspec": {
   "display_name": ".venv",
   "language": "python",
   "name": "python3"
  },
  "language_info": {
   "codemirror_mode": {
    "name": "ipython",
    "version": 3
   },
   "file_extension": ".py",
   "mimetype": "text/x-python",
   "name": "python",
   "nbconvert_exporter": "python",
   "pygments_lexer": "ipython3",
   "version": "3.12.9"
  }
 },
 "nbformat": 4,
 "nbformat_minor": 2
}
